{
 "cells": [
  {
   "cell_type": "code",
   "execution_count": 2,
   "id": "9734eee9-344e-4c01-8faf-f58d101530be",
   "metadata": {},
   "outputs": [
    {
     "name": "stdout",
     "output_type": "stream",
     "text": [
      "Requirement already satisfied: psycopg2-binary in c:\\users\\samuel vergara\\anaconda3\\lib\\site-packages (2.9.10)\n"
     ]
    }
   ],
   "source": [
    "!pip install psycopg2-binary"
   ]
  },
  {
   "cell_type": "code",
   "execution_count": 4,
   "id": "def5288b-1e91-49c1-b94d-52115ecf8a40",
   "metadata": {},
   "outputs": [],
   "source": [
    "import pandas as pd\n",
    "import psycopg2\n",
    "from psycopg2.extras import execute_values"
   ]
  },
  {
   "cell_type": "code",
   "execution_count": 26,
   "id": "c38b1db1-828d-4398-aeb3-b81214c517dd",
   "metadata": {},
   "outputs": [
    {
     "name": "stdout",
     "output_type": "stream",
     "text": [
      "Conexión establecida correctamente.\n"
     ]
    }
   ],
   "source": [
    "conn = psycopg2.connect(\n",
    "    host=\"localhost\",\n",
    "    database=\"laboratorioModelo\",  \n",
    "    user=\"postgres\",         \n",
    "    password=\"Colombia10.\"   \n",
    ")\n",
    "cur = conn.cursor()\n",
    "print(\"Conexión establecida correctamente.\")"
   ]
  },
  {
   "cell_type": "code",
   "execution_count": 10,
   "id": "949d9610-e157-4f20-9d56-fe8f67a6fe10",
   "metadata": {},
   "outputs": [
    {
     "name": "stdout",
     "output_type": "stream",
     "text": [
      "                     UID  Anno Cargue SECOP Anno Firma Contrato Nivel Entidad  \\\n",
      "0  15-12-4271959-3939310               2015                2015   TERRITORIAL   \n",
      "1  15-13-4273271-3984070               2015                2015   TERRITORIAL   \n",
      "2  15-12-4273543-3941066               2015                2015   TERRITORIAL   \n",
      "3   15-4-4271660-3939688               2015                2015   TERRITORIAL   \n",
      "4  15-12-4274849-3941928               2015                2015      NACIONAL   \n",
      "\n",
      "                               Orden Entidad  \\\n",
      "0    TERRITORIAL DISTRITAL MUNICIPAL NIVEL 2   \n",
      "1    TERRITORIAL DISTRITAL MUNICIPAL NIVEL 6   \n",
      "2    TERRITORIAL DISTRITAL MUNICIPAL NIVEL 1   \n",
      "3  TERRITORIAL DEPARTAMENTAL DESCENTRALIZADO   \n",
      "4                      NACIONAL CENTRALIZADO   \n",
      "\n",
      "                                      Nombre Entidad NIT de la Entidad  \\\n",
      "0  ANTIOQUIA - E.S.E. HOSPITAL VENANCIO DiAZ DiAZ...         800123106   \n",
      "1            CASANARE - ALCALDiA MUNICIPIO DE OROCUE       800102896-2   \n",
      "2  RISARALDA - CONTRALORiA MUNICIPAL DE DOSQUEBRADAS         800150130   \n",
      "3                CASANARE - E.S.E. HOSPITAL DE YOPAL         891855029   \n",
      "4                                  EJeRCITO NACIONAL       No Definido   \n",
      "\n",
      "   CÃ³digo de la Entidad  ID Modalidad  \\\n",
      "0              205631022            12   \n",
      "1              285230011            13   \n",
      "2               28863470            12   \n",
      "3               28500134             4   \n",
      "4              115001006            12   \n",
      "\n",
      "                 Modalidad de Contratacion  ... Valor Rubro Sexo RepLegal  \\\n",
      "0  CONTRATACIoN DIRECTA (LEY 1150 DE 2007)  ...           0   No definido   \n",
      "1              CONTRATACIoN MiNIMA CUANTiA  ...           0   No definido   \n",
      "2  CONTRATACIoN DIRECTA (LEY 1150 DE 2007)  ...           0   No definido   \n",
      "3                         ReGIMEN ESPECIAL  ...           0   No definido   \n",
      "4  CONTRATACIoN DIRECTA (LEY 1150 DE 2007)  ...           0   No definido   \n",
      "\n",
      "   Pilar Acuerdo Paz Punto Acuerdo Paz  Municipio Entidad  \\\n",
      "0        No Definido       No Definido           MEDELLiN   \n",
      "1        No Definido       No Definido             OROCUe   \n",
      "2        No Definido       No Definido       DOSQUEBRADAS   \n",
      "3        No Definido       No Definido              YOPAL   \n",
      "4        No Definido       No Definido        BOGOTa D.C.   \n",
      "\n",
      "  Departamento Entidad Ultima Actualizacion Fecha Liquidacion  \\\n",
      "0            ANTIOQUIA           01/10/2015               NaN   \n",
      "1             CASANARE           09/10/2015        03/11/2015   \n",
      "2            RISARALDA           01/10/2015               NaN   \n",
      "3             CASANARE           01/10/2015        31/12/2015   \n",
      "4          BOGOTa D.C.           01/10/2015               NaN   \n",
      "\n",
      "  Cumple Decreto 248 IncluyeBienesDecreto248  \n",
      "0        No definido             No definido  \n",
      "1        No definido             No definido  \n",
      "2        No definido             No definido  \n",
      "3        No definido             No definido  \n",
      "4        No definido             No definido  \n",
      "\n",
      "[5 rows x 72 columns]\n"
     ]
    }
   ],
   "source": [
    "df = pd.read_csv('C:\\\\Users\\\\Samuel Vergara\\\\Downloads\\\\SECOP_I_-_201510_20250228.csv', encoding='latin1')\n",
    "print(df.head())"
   ]
  },
  {
   "cell_type": "code",
   "execution_count": 24,
   "id": "cf649566-599b-41f9-8b1c-1f22c7f9a587",
   "metadata": {},
   "outputs": [
    {
     "name": "stdout",
     "output_type": "stream",
     "text": [
      "Tabla entidad insertada correctamente.\n"
     ]
    }
   ],
   "source": [
    "cur = conn.cursor()\n",
    "\n",
    "# Leer el CSV\n",
    "df = pd.read_csv('C:\\\\Users\\\\Samuel Vergara\\\\Downloads\\\\SECOP_I_-_201510_20250228.csv', encoding='latin1')\n",
    "\n",
    "# Seleccionar y eliminar duplicados en los campos relevantes utilizando los nombres reales\n",
    "entidad_cols = ['Nombre Entidad', 'Nivel Entidad', 'Orden Entidad', 'NIT de la Entidad']\n",
    "df_entidad = df[entidad_cols].drop_duplicates()\n",
    "\n",
    "# Renombrar columnas para que coincidan con la tabla \"entidad\"\n",
    "df_entidad = df_entidad.rename(columns={\n",
    "    'Nombre Entidad': 'nombre_entidad',\n",
    "    'Nivel Entidad': 'nivel',\n",
    "    'Orden Entidad': 'orden',\n",
    "    'NIT de la Entidad': 'nit'\n",
    "})\n",
    "\n",
    "# Convertir a lista de tuplas\n",
    "entidad_tuples = list(df_entidad.itertuples(index=False, name=None))\n",
    "\n",
    "sql_entidad = \"\"\"\n",
    "    INSERT INTO entidad (nombre_entidad, nivel, orden, nit)\n",
    "    VALUES %s\n",
    "    ON CONFLICT (nombre_entidad, nit) DO NOTHING\n",
    "\"\"\"\n",
    "\n",
    "execute_values(cur, sql_entidad, entidad_tuples)\n",
    "conn.commit()\n",
    "print(\"Tabla entidad insertada correctamente.\")\n",
    "\n",
    "cur.close()\n",
    "conn.close()"
   ]
  },
  {
   "cell_type": "code",
   "execution_count": 30,
   "id": "64fda803-5555-48c7-81d9-2c254dbd435d",
   "metadata": {},
   "outputs": [
    {
     "name": "stdout",
     "output_type": "stream",
     "text": [
      "Tabla modalidad insertada correctamente.\n"
     ]
    }
   ],
   "source": [
    "cur = conn.cursor()\n",
    "\n",
    "# Leer el CSV\n",
    "df = pd.read_csv('C:\\\\Users\\\\Samuel Vergara\\\\Downloads\\\\SECOP_I_-_201510_20250228.csv', encoding='latin1')\n",
    "\n",
    "# Seleccionar y eliminar duplicados usando los nombres reales\n",
    "modalidad_cols = ['ID Modalidad', 'Modalidad de Contratacion', 'Causal de Otras formas de Contratacion Directa']\n",
    "df_modalidad = df[modalidad_cols].drop_duplicates()\n",
    "\n",
    "# Renombrar columnas para que coincidan con la tabla \"modalidad\"\n",
    "df_modalidad = df_modalidad.rename(columns={\n",
    "    'ID Modalidad': 'id_modalidad',\n",
    "    'Modalidad de Contratacion': 'modalidad_de_contratacion',\n",
    "    'Causal de Otras formas de Contratacion Directa': 'causal_de_otras_formas_de'\n",
    "})\n",
    "\n",
    "# Convertir a lista de tuplas\n",
    "modalidad_tuples = list(df_modalidad.itertuples(index=False, name=None))\n",
    "\n",
    "sql_modalidad = \"\"\"\n",
    "    INSERT INTO modalidad (id_modalidad, modalidad_de_contratacion, causal_de_otras_formas_de)\n",
    "    VALUES %s\n",
    "    ON CONFLICT (id_modalidad) DO NOTHING\n",
    "\"\"\"\n",
    "\n",
    "execute_values(cur, sql_modalidad, modalidad_tuples)\n",
    "conn.commit()\n",
    "print(\"Tabla modalidad insertada correctamente.\")\n",
    "\n"
   ]
  },
  {
   "cell_type": "code",
   "execution_count": 36,
   "id": "2e215db5-bbc2-4396-8342-fea9c00978f5",
   "metadata": {},
   "outputs": [
    {
     "name": "stdout",
     "output_type": "stream",
     "text": [
      "Tabla UNSPSC insertada correctamente.\n",
      "Tabla UNSPSC insertada correctamente.\n"
     ]
    }
   ],
   "source": [
    "cur = conn.cursor()\n",
    "\n",
    "df = pd.read_csvcur = conn.cursor()\n",
    "\n",
    "df = pd.read_csv('C:\\\\Users\\\\Samuel Vergara\\\\Downloads\\\\SECOP_I_-_201510_20250228.csv', encoding='latin1')\n",
    "\n",
    "\n",
    "unspsc_cols = ['ID Objeto a Contratar', 'Objeto a Contratar', 'Detalle del Objeto a Contratar']\n",
    "df_unspsc = df[unspsc_cols].drop_duplicates()\n",
    "\n",
    "# Renombrar columnas para que coincidan con la tabla \"unspsc\"\n",
    "df_unspsc = df_unspsc.rename(columns={\n",
    "    'ID Objeto a Contratar': 'codigo',\n",
    "    'Objeto a Contratar': 'nombre',\n",
    "    'Detalle del Objeto a Contratar': 'detalle'\n",
    "})\n",
    "\n",
    "unspsc_tuples = list(df_unspsc.itertuples(index=False, name=None))\n",
    "\n",
    "sql_unspsc = \"\"\"\n",
    "    INSERT INTO unspsc (codigo, nombre, detalle)\n",
    "    VALUES %s\n",
    "    ON CONFLICT (codigo) DO NOTHING\n",
    "\"\"\"\n",
    "\n",
    "execute_values(cur, sql_unspsc, unspsc_tuples)\n",
    "conn.commit()\n",
    "print(\"Tabla UNSPSC insertada correctamente.\")\n",
    "unspsc_cols = ['ID Objeto a Contratar', 'Objeto a Contratar', 'Detalle del Objeto a Contratar']\n",
    "df_unspsc = df[unspsc_cols].drop_duplicates()\n",
    "\n",
    "# Renombrar columnas para que coincidan con la tabla \"unspsc\"\n",
    "df_unspsc = df_unspsc.rename(columns={\n",
    "    'ID Objeto a Contratar': 'codigo',\n",
    "    'Objeto a Contratar': 'nombre',\n",
    "    'Detalle del Objeto a Contratar': 'detalle'\n",
    "})\n",
    "\n",
    "unspsc_tuples = list(df_unspsc.itertuples(index=False, name=None))\n",
    "\n",
    "sql_unspsc = \"\"\"\n",
    "    INSERT INTO unspsc (codigo, nombre, detalle)\n",
    "    VALUES %s\n",
    "    ON CONFLICT (codigo) DO NOTHING\n",
    "\"\"\"\n",
    "\n",
    "execute_values(cur, sql_unspsc, unspsc_tuples)\n",
    "conn.commit()\n",
    "print(\"Tabla UNSPSC insertada correctamente.\")"
   ]
  },
  {
   "cell_type": "code",
   "execution_count": 38,
   "id": "ed12b4a6-00d8-4c4d-9e79-012155630b8f",
   "metadata": {},
   "outputs": [
    {
     "name": "stdout",
     "output_type": "stream",
     "text": [
      "Tabla contrato insertada correctamente.\n"
     ]
    }
   ],
   "source": [
    "cur = conn.cursor()\n",
    "\n",
    "\n",
    "df = pd.read_csv('C:\\\\Users\\\\Samuel Vergara\\\\Downloads\\\\SECOP_I_-_201510_20250228.csv', encoding='latin1')\n",
    "\n",
    "\n",
    "# Seleccionar las columnas relevantes para contrato\n",
    "contrato_cols = [\n",
    "    'Numero de Contrato', 'Tipo Identifi del Contratista', 'Anno Firma Contrato',\n",
    "    'Identificacion del Contratista', 'Nom Razon Social Contratista',\n",
    "    'Fecha de Firma del Contrato', 'Plazo de Ejec del Contrato', 'Fecha Fin Ejec Contrato'\n",
    "]\n",
    "df_contrato = df[contrato_cols].drop_duplicates()\n",
    "\n",
    "# Renombrar columnas para que coincidan con la tabla \"contrato\"\n",
    "df_contrato = df_contrato.rename(columns={\n",
    "    'Numero de Contrato': 'numero_contrato',\n",
    "    'Tipo Identifi del Contratista': 'tipo_contratante',\n",
    "    'Anno Firma Contrato': 'anio_firma',\n",
    "    'Identificacion del Contratista': 'contratista_id',\n",
    "    'Nom Razon Social Contratista': 'contratista_nombre',\n",
    "    'Fecha de Firma del Contrato': 'fecha_firma',\n",
    "    'Plazo de Ejec del Contrato': 'plazo',\n",
    "    'Fecha Fin Ejec Contrato': 'fecha_fin'\n",
    "})\n",
    "\n",
    "# Convertir las columnas de fecha a datetime interpretando el formato día/mes/año\n",
    "df_contrato['fecha_firma'] = pd.to_datetime(df_contrato['fecha_firma'], errors='coerce', dayfirst=True)\n",
    "df_contrato['fecha_fin']   = pd.to_datetime(df_contrato['fecha_fin'], errors='coerce', dayfirst=True)\n",
    "\n",
    "# Convertir cada valor de fecha a una cadena en formato 'YYYY-MM-DD' o a None si es nulo\n",
    "df_contrato['fecha_firma'] = df_contrato['fecha_firma'].apply(lambda x: x.strftime('%Y-%m-%d') if pd.notnull(x) else None)\n",
    "df_contrato['fecha_fin'] = df_contrato['fecha_fin'].apply(lambda x: x.strftime('%Y-%m-%d') if pd.notnull(x) else None)\n",
    "\n",
    "# Hacer rollback por si hay transacción abortada\n",
    "conn.rollback()\n",
    "\n",
    "# Convertir el DataFrame a una lista de tuplas\n",
    "contrato_tuples = list(df_contrato.itertuples(index=False, name=None))\n",
    "\n",
    "sql_contrato = \"\"\"\n",
    "    INSERT INTO contrato (numero_contrato, tipo_contratante, anio_firma, contratista_id,\n",
    "                          contratista_nombre, fecha_firma, plazo, fecha_fin)\n",
    "    VALUES %s\n",
    "    ON CONFLICT (numero_contrato) DO NOTHING\n",
    "\"\"\"\n",
    "\n",
    "execute_values(cur, sql_contrato, contrato_tuples)\n",
    "conn.commit()\n",
    "print(\"Tabla contrato insertada correctamente.\")"
   ]
  },
  {
   "cell_type": "code",
   "execution_count": 40,
   "id": "c32f9d09-54c2-4b5f-86ee-a4e769d989c9",
   "metadata": {},
   "outputs": [
    {
     "name": "stdout",
     "output_type": "stream",
     "text": [
      "Tabla proceso insertada correctamente.\n"
     ]
    }
   ],
   "source": [
    "cur = conn.cursor()\n",
    "\n",
    "# Leer el CSV\n",
    "df = pd.read_csv('C:\\\\Users\\\\Samuel Vergara\\\\Downloads\\\\SECOP_I_-_201510_20250228.csv', encoding='latin1')\n",
    "\n",
    "\n",
    "# Definir las columnas reales para la inserción en la tabla proceso\n",
    "proceso_cols = [\n",
    "    'Numero de Constancia', \n",
    "    'Modalidad de Contratacion', \n",
    "    'Estado del Proceso', \n",
    "    'Cuantia Contrato', \n",
    "    'NIT de la Entidad', \n",
    "    'ID Modalidad', \n",
    "    'ID Objeto a Contratar',\n",
    "    'Numero de Contrato'\n",
    "]\n",
    "\n",
    "# Seleccionar y copiar esas columnas\n",
    "df_proceso = df[proceso_cols].copy()\n",
    "\n",
    "# Renombrar las columnas para que coincidan con la estructura de la tabla proceso\n",
    "df_proceso = df_proceso.rename(columns={\n",
    "    'Numero de Constancia': 'numero_constancia',\n",
    "    'Modalidad de Contratacion': 'tipo_proceso',\n",
    "    'Estado del Proceso': 'estado_proceso',\n",
    "    'Cuantia Contrato': 'valor_contrato',\n",
    "    'NIT de la Entidad': 'nit',\n",
    "    'ID Modalidad': 'id_modalidad',\n",
    "    'ID Objeto a Contratar': 'unspsc_codigo',\n",
    "    'Numero de Contrato': 'numero_de_contrato'\n",
    "})\n",
    "\n",
    "# La tabla proceso requiere la columna id_entidad (clave foránea).\n",
    "# Se asume que ya insertaste la tabla entidad. Mapeamos el NIT a id_entidad:\n",
    "cur.execute(\"SELECT nit, id_entidad FROM entidad\")\n",
    "entidad_mapping = dict(cur.fetchall())\n",
    "df_proceso['id_entidad'] = df_proceso['nit'].map(entidad_mapping)\n",
    "\n",
    "# Eliminar registros que no tengan mapeo (o gestionarlos según convenga)\n",
    "df_proceso = df_proceso.dropna(subset=['id_entidad'])\n",
    "\n",
    "# Seleccionar las columnas finales en el orden definido en la tabla proceso:\n",
    "# (numero_constancia, tipo_proceso, estado_proceso, valor_contrato, id_entidad, id_modalidad, unspsc_codigo, numero_de_contrato)\n",
    "df_proceso_final = df_proceso[['numero_constancia', 'tipo_proceso', 'estado_proceso', \n",
    "                               'valor_contrato', 'id_entidad', 'id_modalidad', \n",
    "                               'unspsc_codigo', 'numero_de_contrato']]\n",
    "\n",
    "# Convertir a lista de tuplas para la inserción\n",
    "proceso_tuples = list(df_proceso_final.itertuples(index=False, name=None))\n",
    "\n",
    "sql_proceso = \"\"\"\n",
    "    INSERT INTO proceso (numero_constancia, tipo_proceso, estado_proceso, valor_contrato, \n",
    "                         id_entidad, id_modalidad, unspsc_codigo, numero_de_contrato)\n",
    "    VALUES %s\n",
    "    ON CONFLICT (numero_constancia) DO NOTHING\n",
    "\"\"\"\n",
    "\n",
    "execute_values(cur, sql_proceso, proceso_tuples)\n",
    "conn.commit()\n",
    "print(\"Tabla proceso insertada correctamente.\")\n"
   ]
  },
  {
   "cell_type": "code",
   "execution_count": 42,
   "id": "e70e88f3-8ba3-4bc2-a3c2-30e3f89967db",
   "metadata": {},
   "outputs": [
    {
     "name": "stdout",
     "output_type": "stream",
     "text": [
      "   id_entidad                                     nombre_entidad\n",
      "0        2848  HUILA - INSTITUCIoN EDUCATIVA JUAN XXIII - ALG...\n",
      "1         251        CAUCA - CONTRALORiA DEPARTAMENTAL DEL CAUCA\n",
      "2        2026  ANTIOQUIA - INSTITUCIoN EDUCATIVA MARiA DE LOS...\n",
      "3        2409  VALLE DEL CAUCA - INSTITUCIoN EDUCATIVA ATANAS...\n",
      "4        2024  ANTIOQUIA - INSTITUCIoN EDUCATIVA MARCELIANA S...\n"
     ]
    }
   ],
   "source": [
    "sql = \"\"\"\n",
    "SELECT e.id_entidad, e.nombre_entidad\n",
    "FROM entidad e\n",
    "LEFT JOIN proceso p \n",
    "  ON e.id_entidad = p.id_entidad \n",
    "  AND LOWER(p.tipo_proceso) LIKE '%licitacion%'\n",
    "WHERE p.numero_constancia IS NULL;\n",
    "\"\"\"\n",
    "\n",
    "# Ejecutar la consulta y cargar resultados en un DataFrame\n",
    "cur.execute(sql)\n",
    "resultados = cur.fetchall()\n",
    "columnas = [desc[0] for desc in cur.description]\n",
    "df_entidades = pd.DataFrame(resultados, columns=columnas)\n",
    "print(df_entidades.head())"
   ]
  },
  {
   "cell_type": "code",
   "execution_count": 44,
   "id": "116d4ea8-9317-4c50-8d38-498e7eb77fdb",
   "metadata": {},
   "outputs": [
    {
     "name": "stdout",
     "output_type": "stream",
     "text": [
      "   id_entidad                                     nombre_entidad  \\\n",
      "0          51  INSTITUTO NACIONAL DE VIGILANCIA DE MEDICAMENT...   \n",
      "1        1750              CONTADURiA GENERAL DE LA NACIoN (CGN)   \n",
      "2         576  INSTITUTO DE HIDROLOGiA; METEOROLOGiA Y ESTUDI...   \n",
      "3         508    VALLE DEL CAUCA - ALCALDiA MUNICIPIO DE JAMUNDi   \n",
      "4         175             CALDAS - ALCALDiA MUNICIPIO DE ANSERMA   \n",
      "\n",
      "   total_procesos  \n",
      "0               3  \n",
      "1               3  \n",
      "2               6  \n",
      "3               3  \n",
      "4               3  \n"
     ]
    }
   ],
   "source": [
    "sql = \"\"\"\n",
    "SELECT e.id_entidad, e.nombre_entidad, COUNT(p.numero_constancia) AS total_procesos\n",
    "FROM proceso p\n",
    "JOIN entidad e \n",
    "  ON p.id_entidad = e.id_entidad\n",
    "JOIN unspsc u \n",
    "  ON p.unspsc_codigo = u.codigo\n",
    "WHERE u.codigo = '43000000'\n",
    "GROUP BY e.id_entidad, e.nombre_entidad\n",
    "HAVING COUNT(p.numero_constancia) >= 3;\n",
    "\"\"\"\n",
    "\n",
    "# Ejecutar la consulta y cargar resultados en un DataFrame\n",
    "cur.execute(sql)\n",
    "resultados = cur.fetchall()\n",
    "columnas = [desc[0] for desc in cur.description]\n",
    "df_entidades = pd.DataFrame(resultados, columns=columnas)\n",
    "\n",
    "# Mostrar los primeros resultados\n",
    "print(df_entidades.head())"
   ]
  },
  {
   "cell_type": "code",
   "execution_count": 46,
   "id": "05983fff-59e0-498c-9356-8deafb3f4c49",
   "metadata": {},
   "outputs": [
    {
     "name": "stdout",
     "output_type": "stream",
     "text": [
      "  estado_proceso producto_codigo  \\\n",
      "0     ADJUDICADO        72000000   \n",
      "1     ADJUDICADO        95000000   \n",
      "2     ADJUDICADO        81000000   \n",
      "3     ADJUDICADO        80000000   \n",
      "4     ADJUDICADO        43000000   \n",
      "\n",
      "                                     producto_nombre  total_procesos  \n",
      "0  SERVICIOS DE EDIFICACIoN, CONSTRUCCIoN DE INST...             214  \n",
      "1            TERRENOS, EDIFICIOS, ESTRUCTURAS Y ViAS             171  \n",
      "2  SERVICIOS BASADOS EN INGENIERiA, INVESTIGACIoN...              51  \n",
      "3  SERVICIOS DE GESTION, SERVICIOS PROFESIONALES ...              49  \n",
      "4  DIFUSIoN DE TECNOLOGiAS DE INFORMACIoN Y TELEC...              20  \n"
     ]
    }
   ],
   "source": [
    "sql = \"\"\"\n",
    "WITH estados AS (\n",
    "    SELECT DISTINCT estado_proceso \n",
    "    FROM proceso\n",
    ")\n",
    "SELECT \n",
    "    e.estado_proceso, \n",
    "    u.codigo AS producto_codigo, \n",
    "    u.nombre AS producto_nombre,\n",
    "    COUNT(p.numero_constancia) AS total_procesos\n",
    "FROM estados e\n",
    "CROSS JOIN unspsc u\n",
    "LEFT JOIN proceso p \n",
    "    ON p.estado_proceso = e.estado_proceso \n",
    "   AND p.unspsc_codigo = u.codigo\n",
    "GROUP BY e.estado_proceso, u.codigo, u.nombre\n",
    "ORDER BY e.estado_proceso, total_procesos DESC;\n",
    "\"\"\"\n",
    "\n",
    "# Ejecutar la consulta y cargar los resultados en un DataFrame\n",
    "cur.execute(sql)\n",
    "resultados = cur.fetchall()\n",
    "columnas = [desc[0] for desc in cur.description]\n",
    "df_estadistica = pd.DataFrame(resultados, columns=columnas)\n",
    "\n",
    "# Mostrar los primeros registros\n",
    "print(df_estadistica.head())"
   ]
  },
  {
   "cell_type": "code",
   "execution_count": 48,
   "id": "9971bd21-fbb9-4333-b416-795c0cd99121",
   "metadata": {},
   "outputs": [
    {
     "name": "stdout",
     "output_type": "stream",
     "text": [
      "   id_entidad                                     nombre_entidad  \\\n",
      "0           1  ANTIOQUIA - E.S.E. HOSPITAL VENANCIO DiAZ DiAZ...   \n",
      "1           2            CASANARE - ALCALDiA MUNICIPIO DE OROCUE   \n",
      "2           2            CASANARE - ALCALDiA MUNICIPIO DE OROCUE   \n",
      "3           2            CASANARE - ALCALDiA MUNICIPIO DE OROCUE   \n",
      "4           2            CASANARE - ALCALDiA MUNICIPIO DE OROCUE   \n",
      "\n",
      "                                        tipo_proceso total_contratado  \n",
      "0            CONTRATACIoN DIRECTA (LEY 1150 DE 2007)        231269930  \n",
      "1                        CONCURSO DE MeRITOS ABIERTO         98509893  \n",
      "2                        CONTRATACIoN MiNIMA CUANTiA        321437696  \n",
      "3                                 LICITACIoN PuBLICA       2392192831  \n",
      "4  SELECCIoN ABREVIADA DE MENOR CUANTiA (LEY 1150...        176059573  \n"
     ]
    }
   ],
   "source": [
    "sql = \"\"\"\n",
    "SELECT \n",
    "    e.id_entidad, \n",
    "    e.nombre_entidad, \n",
    "    p.tipo_proceso,\n",
    "    SUM(p.valor_contrato) AS total_contratado\n",
    "FROM proceso p\n",
    "JOIN entidad e \n",
    "  ON p.id_entidad = e.id_entidad\n",
    "GROUP BY e.id_entidad, e.nombre_entidad, p.tipo_proceso\n",
    "ORDER BY e.id_entidad, p.tipo_proceso;\n",
    "\"\"\"\n",
    "\n",
    "# Ejecutar la consulta y cargar los resultados en un DataFrame\n",
    "cur.execute(sql)\n",
    "resultados = cur.fetchall()\n",
    "columnas = [desc[0] for desc in cur.description]\n",
    "df_valor_contratado = pd.DataFrame(resultados, columns=columnas)\n",
    "\n",
    "# Mostrar los primeros registros\n",
    "print(df_valor_contratado.head())"
   ]
  },
  {
   "cell_type": "code",
   "execution_count": 50,
   "id": "f8ddc52a-b326-4763-acdb-2ba146513da7",
   "metadata": {},
   "outputs": [
    {
     "name": "stdout",
     "output_type": "stream",
     "text": [
      "  producto_codigo                                    producto_nombre  \\\n",
      "0        72000000  SERVICIOS DE EDIFICACIoN, CONSTRUCCIoN DE INST...   \n",
      "1        95000000            TERRENOS, EDIFICIOS, ESTRUCTURAS Y ViAS   \n",
      "2        84000000                 SERVICIOS FINANCIEROS Y DE SEGUROS   \n",
      "3        80000000  SERVICIOS DE GESTION, SERVICIOS PROFESIONALES ...   \n",
      "4        85000000                                 SERVICIOS DE SALUD   \n",
      "\n",
      "  total_contratado  \n",
      "0    1407683127043  \n",
      "1    1379480808922  \n",
      "2     918163710510  \n",
      "3     730422217092  \n",
      "4     557176348248  \n"
     ]
    }
   ],
   "source": [
    "sql = \"\"\"\n",
    "SELECT \n",
    "    u.codigo AS producto_codigo, \n",
    "    u.nombre AS producto_nombre, \n",
    "    SUM(p.valor_contrato) AS total_contratado\n",
    "FROM proceso p\n",
    "JOIN unspsc u \n",
    "  ON p.unspsc_codigo = u.codigo\n",
    "GROUP BY u.codigo, u.nombre\n",
    "ORDER BY total_contratado DESC\n",
    "LIMIT 5;\n",
    "\"\"\"\n",
    "\n",
    "# Ejecutar la consulta y cargar los resultados en un DataFrame\n",
    "cur.execute(sql)\n",
    "resultados = cur.fetchall()\n",
    "columnas = [desc[0] for desc in cur.description]\n",
    "df_top_productos = pd.DataFrame(resultados, columns=columnas)\n",
    "\n",
    "# Mostrar los primeros registros\n",
    "print(df_top_productos.head())\n",
    "\n"
   ]
  },
  {
   "cell_type": "code",
   "execution_count": null,
   "id": "f2d2345f-55b9-4230-8d57-1b92daa41b9c",
   "metadata": {},
   "outputs": [],
   "source": []
  }
 ],
 "metadata": {
  "kernelspec": {
   "display_name": "Python [conda env:base] *",
   "language": "python",
   "name": "conda-base-py"
  },
  "language_info": {
   "codemirror_mode": {
    "name": "ipython",
    "version": 3
   },
   "file_extension": ".py",
   "mimetype": "text/x-python",
   "name": "python",
   "nbconvert_exporter": "python",
   "pygments_lexer": "ipython3",
   "version": "3.12.7"
  }
 },
 "nbformat": 4,
 "nbformat_minor": 5
}
